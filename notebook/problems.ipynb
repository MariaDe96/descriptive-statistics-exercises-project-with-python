{
    "cells": [
        {
            "cell_type": "markdown",
            "id": "ac622319",
            "metadata": {},
            "source": [
                "# Descriptive statistics problems"
            ]
        },
        {
            "cell_type": "markdown",
            "id": "5e0ab0d5",
            "metadata": {},
            "source": [
                "### Exercise 1\n",
                "\n",
                "We will use NumPy to obtain information to describe statistically.\n",
                "\n",
                "- Generate an array of 100 elements following a normal distribution.\n",
                "- Generate an array of 100 elements following a chi-square distribution with 3 degrees of freedom.\n",
                "- Calculate the main metrics and statistical measures that best describe the two vectors."
            ]
        },
        {
            "cell_type": "code",
            "execution_count": null,
            "id": "34720ab6",
            "metadata": {},
            "outputs": [
                {
                    "name": "stdout",
                    "output_type": "stream",
                    "text": [
                        "Normal vector:[ 0.04520502 -1.18577007  0.38121253 -0.24331563 -0.78224389  0.5807533\n",
                        "  0.12089852  2.23520071  0.15399713  0.21202182 -0.4691505  -2.30805099\n",
                        " -0.48450185 -0.80924421 -0.43297233  1.66433126  0.5335141   1.55058915\n",
                        " -0.09969362 -0.1501913  -0.5974057  -1.35699393  0.76379843  0.85385707\n",
                        "  0.34571403  1.11738846 -0.40634567  0.86176666 -0.70814781 -0.50251016\n",
                        "  0.49942058 -0.77283364 -0.84991013  0.72414367  0.08266315 -0.51926378\n",
                        "  0.17766318 -1.50525721  0.17958754  0.09026304 -0.1548479  -0.54652661\n",
                        "  1.20823899  0.4743761  -0.86086413  0.86833477  2.0603609   1.89003129\n",
                        " -1.49207602  1.42767554 -1.02557123 -0.01268467  2.07264843  0.20760851\n",
                        "  1.1440744  -0.12872449 -0.32418075  0.34746883 -0.37415284  1.65377471\n",
                        " -0.69850301  1.46259577  0.23417496 -0.66797106 -0.29137064 -1.76231601\n",
                        "  0.43909795 -0.83507633  2.20912092 -0.05442913  0.44705323 -0.79344902\n",
                        " -0.6489368   0.31898486  1.1882672   0.14342523  1.14267682  1.06772198\n",
                        "  0.58853456 -3.02573819  0.22828411  1.52016058 -0.55907178 -0.14355272\n",
                        " -1.4339944   1.80743586 -1.99633803 -0.2613006  -0.41514792 -0.68440522\n",
                        "  0.51790847 -2.05635739  0.9631072   2.98672694  0.07807674  0.03053534\n",
                        "  0.96781782 -1.4977851  -0.11995241 -1.06396799]\n",
                        "Chi-square vector:[ 0.82655133  0.83330509  0.27520204  1.7439802   0.56291101  0.90404733\n",
                        "  1.04443265  4.69053973  1.67414854  2.46313103  1.82333667  1.60678531\n",
                        "  1.61008083  0.55412953  1.29340046  0.17118841  0.81662101  3.93920027\n",
                        "  3.95736661  1.88329457  0.40228153  0.30619469  0.11498304  1.2384487\n",
                        "  2.78137226  6.83083613  1.1177518   3.84432971  2.40259986  2.89182152\n",
                        "  2.40986897  1.58358535  0.57409921  2.59630374  3.00419409  3.25502212\n",
                        "  4.69512268  4.10745504  0.4837589   1.0034847   3.84345905  2.76993449\n",
                        "  0.92876544  5.1997642   0.56543464  1.18564115  1.92099646  3.74286098\n",
                        "  2.9644606   5.34039698 12.73532285  2.28542511  1.3774453   1.8029124\n",
                        "  0.44213131  1.2863083   2.36215349  1.78702093  5.45112055  3.01354228\n",
                        "  0.73721529  2.38590318  3.66178085  5.71466816  1.30554967  2.64732265\n",
                        "  2.64622391  1.71692267  1.12692484  2.06687725  3.40173982  1.98435859\n",
                        "  7.1196309   3.19796636  2.70530049  3.91211093  0.84287928  0.3880415\n",
                        "  0.42814896  2.35220105  1.20246424  3.84936948  6.30863961  2.47876116\n",
                        "  2.53963978  1.88515529  0.30787748  5.06072072  5.31996402  0.05603431\n",
                        "  2.01145465  5.72418206  1.25340563  0.24607439  4.92024377  3.98834685\n",
                        "  2.8644917   0.41234425  0.16069325  0.73319652]\n",
                        "mean: 0.06757193529599602\n",
                        "min: -3.025738187663031\n",
                        "max: 2.9867269428032364\n",
                        "Variance: 1.141666143274863\n",
                        "Standar Deviation: 1.0684877833999147\n",
                        "Median: 0.06164088072518385\n",
                        "mean: 2.4098708866351184\n",
                        "min: 0.0560343069945358\n",
                        "max: 12.735322846222036\n",
                        "Variance: 3.891761795111247\n",
                        "Standar Deviation: 1.9727548745627894\n",
                        "Median: 1.9526775275882042\n"
                    ]
                }
            ],
            "source": [
                "import numpy as np \n",
                "\n",
                "\n",
                "normal_array = np.random.normal(size= 100)\n",
                "chi_array = np.random.chisquare(3, 100)\n",
                "\n",
                "print(f\"Normal vector:{normal_array}\")\n",
                "print(f\"Chi-square vector:{chi_array}\")\n",
                "\n",
                "#Calcular la main\n",
                "\n",
                "def main_staticals(array):\n",
                "    print(f\"mean: {np.mean(array)}\")\n",
                "    print(f\"min: {np.min(array)}\")\n",
                "    print(f\"max: {np.max(array)}\")\n",
                "    print(f\"Variance: {np.var(array)}\")\n",
                "    print(f\"Standar Deviation: {np.std(array)}\")\n",
                "    print(f\"Median: {np.median(array)}\")\n",
                "\n",
                "main_staticals(normal_array)\n",
                "main_staticals(chi_array)\n",
                "\n",
                "\n",
                "\n",
                "\n"
            ]
        },
        {
            "cell_type": "markdown",
            "id": "46c70c3d",
            "metadata": {},
            "source": [
                "### Exercise 2\n",
                "\n",
                "Write a Python program to calculate the standard deviation of the following data:\n",
                "\n",
                "```py\n",
                "data = [4, 2, 5, 8, 6]\n",
                "```"
            ]
        },
        {
            "cell_type": "code",
            "execution_count": null,
            "id": "d590308e",
            "metadata": {},
            "outputs": [
                {
                    "name": "stdout",
                    "output_type": "stream",
                    "text": [
                        "Standar Desviacion: 2.0\n"
                    ]
                }
            ],
            "source": [
                "data = [4, 2, 5, 8, 6]\n",
                "\n",
                "standar_desv = np.std(data)\n",
                "print(\"Standar Desviacion:\", standar_desv)\n",
                "\n"
            ]
        }
    ],
    "metadata": {
        "kernelspec": {
            "display_name": "Python 3",
            "language": "python",
            "name": "python3"
        },
        "language_info": {
            "codemirror_mode": {
                "name": "ipython",
                "version": 3
            },
            "file_extension": ".py",
            "mimetype": "text/x-python",
            "name": "python",
            "nbconvert_exporter": "python",
            "pygments_lexer": "ipython3",
            "version": "3.11.4"
        }
    },
    "nbformat": 4,
    "nbformat_minor": 5
}
